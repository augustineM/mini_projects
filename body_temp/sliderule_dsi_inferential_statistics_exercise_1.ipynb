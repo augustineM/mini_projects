{
 "cells": [
  {
   "cell_type": "markdown",
   "metadata": {},
   "source": [
    "# What is the True Normal Human Body Temperature? \n",
    "\n",
    "#### Background\n",
    "\n",
    "The mean normal body temperature was held to be 37$^{\\circ}$C or 98.6$^{\\circ}$F for more than 120 years since it was first conceptualized and reported by Carl Wunderlich in a famous 1868 book. But, is this value statistically correct?"
   ]
  },
  {
   "cell_type": "markdown",
   "metadata": {},
   "source": [
    "<h3>Exercises</h3>\n",
    "\n",
    "<p>In this exercise, you will analyze a dataset of human body temperatures and employ the concepts of hypothesis testing, confidence intervals, and statistical significance.</p>\n",
    "\n",
    "<p>Answer the following questions <b>in this notebook below and submit to your Github account</b>.</p> \n",
    "\n",
    "<ol>\n",
    "<li>  Is the distribution of body temperatures normal? \n",
    "    <ul>\n",
    "    <li> Although this is not a requirement for CLT to hold (read CLT carefully), it gives us some peace of mind that the population may also be normally distributed if we assume that this sample is representative of the population.\n",
    "    </ul>\n",
    "<li>  Is the sample size large? Are the observations independent?\n",
    "    <ul>\n",
    "    <li> Remember that this is a condition for the CLT, and hence the statistical tests we are using, to apply.\n",
    "    </ul>\n",
    "<li>  Is the true population mean really 98.6 degrees F?\n",
    "    <ul>\n",
    "    <li> Would you use a one-sample or two-sample test? Why?\n",
    "    <li> In this situation, is it appropriate to use the $t$ or $z$ statistic? \n",
    "    <li> Now try using the other test. How is the result be different? Why?\n",
    "    </ul>\n",
    "<li>  Draw a small sample of size 10 from the data and repeat both tests. \n",
    "    <ul>\n",
    "    <li> Which one is the correct one to use? \n",
    "    <li> What do you notice? What does this tell you about the difference in application of the $t$ and $z$ statistic?\n",
    "    </ul>\n",
    "<li>  At what temperature should we consider someone's temperature to be \"abnormal\"?\n",
    "    <ul>\n",
    "    <li> Start by computing the margin of error and confidence interval.\n",
    "    </ul>\n",
    "<li>  Is there a significant difference between males and females in normal temperature?\n",
    "    <ul>\n",
    "    <li> What test did you use and why?\n",
    "    <li> Write a story with your conclusion in the context of the original problem.\n",
    "    </ul>\n",
    "</ol>\n",
    "\n",
    "You can include written notes in notebook cells using Markdown: \n",
    "   - In the control panel at the top, choose Cell > Cell Type > Markdown\n",
    "   - Markdown syntax: http://nestacms.com/docs/creating-content/markdown-cheat-sheet\n",
    "\n",
    "#### Resources\n",
    "\n",
    "+ Information and data sources: http://www.amstat.org/publications/jse/datasets/normtemp.txt, http://www.amstat.org/publications/jse/jse_data_archive.htm\n",
    "+ Markdown syntax: http://nestacms.com/docs/creating-content/markdown-cheat-sheet\n",
    "\n",
    "****"
   ]
  },
  {
   "cell_type": "code",
   "execution_count": 2,
   "metadata": {
    "collapsed": true
   },
   "outputs": [],
   "source": [
    "import pandas as pd\n",
    "\n",
    "df = pd.read_csv('data/human_body_temperature.csv')"
   ]
  },
  {
   "cell_type": "code",
   "execution_count": 3,
   "metadata": {
    "collapsed": true
   },
   "outputs": [],
   "source": [
    "# Your work here.\n",
    "\n",
    "import numpy as np\n",
    "import pandas as pd\n",
    "import scipy.stats as stats\n",
    "import matplotlib.pyplot as plt\n",
    "import random\n",
    "import math\n",
    "\n",
    "%matplotlib inline "
   ]
  },
  {
   "cell_type": "code",
   "execution_count": 4,
   "metadata": {
    "collapsed": false
   },
   "outputs": [
    {
     "data": {
      "text/html": [
       "<div>\n",
       "<table border=\"1\" class=\"dataframe\">\n",
       "  <thead>\n",
       "    <tr style=\"text-align: right;\">\n",
       "      <th></th>\n",
       "      <th>temperature</th>\n",
       "      <th>gender</th>\n",
       "      <th>heart_rate</th>\n",
       "    </tr>\n",
       "  </thead>\n",
       "  <tbody>\n",
       "    <tr>\n",
       "      <th>0</th>\n",
       "      <td>99.3</td>\n",
       "      <td>F</td>\n",
       "      <td>68.0</td>\n",
       "    </tr>\n",
       "    <tr>\n",
       "      <th>1</th>\n",
       "      <td>98.4</td>\n",
       "      <td>F</td>\n",
       "      <td>81.0</td>\n",
       "    </tr>\n",
       "    <tr>\n",
       "      <th>2</th>\n",
       "      <td>97.8</td>\n",
       "      <td>M</td>\n",
       "      <td>73.0</td>\n",
       "    </tr>\n",
       "    <tr>\n",
       "      <th>3</th>\n",
       "      <td>99.2</td>\n",
       "      <td>F</td>\n",
       "      <td>66.0</td>\n",
       "    </tr>\n",
       "    <tr>\n",
       "      <th>4</th>\n",
       "      <td>98.0</td>\n",
       "      <td>F</td>\n",
       "      <td>73.0</td>\n",
       "    </tr>\n",
       "  </tbody>\n",
       "</table>\n",
       "</div>"
      ],
      "text/plain": [
       "   temperature gender  heart_rate\n",
       "0         99.3      F        68.0\n",
       "1         98.4      F        81.0\n",
       "2         97.8      M        73.0\n",
       "3         99.2      F        66.0\n",
       "4         98.0      F        73.0"
      ]
     },
     "execution_count": 4,
     "metadata": {},
     "output_type": "execute_result"
    }
   ],
   "source": [
    "df.head()"
   ]
  },
  {
   "cell_type": "markdown",
   "metadata": {},
   "source": [
    "Let's check the distribution of human body temperature.  First, plot a histogram to visually check the distribution.  We'll alos print out the skew and kurtosis using scipy stats functions.\n",
    "\n",
    "Skewness measures the symmetry of a distribution.  The skewness of a normal distribution is expected to be 0.  Negative values of skewness indicate a left skewed distribution and positive values of skewness indicate a right skew in the distribution.  \n",
    "\n",
    "Kurtosis measures the thickness of a distributions tails.  A normal distribution is expected to have a kurtosis around 3 and often kurtosis is measured in terms of excess kurtosis (difference from 3).  The scipy.kurtosis function return a measure of kurtosis in terms of excess kurtosis.\n",
    "\n",
    "Visually inspecting the distribution, we can see there is a left skew to the distribution.  This obesrvation is confirmed by the skew calculation. \n",
    "\n",
    "Since excess kurtosis is measured relative to a normal distribution, we can have positive and negative values indicating either heavy or light tails.  The excess kurtosis is reported as 0.7 and indicates tail slightly heavier than a normal distribution.\n",
    "\n",
    "We tend to think that the central limit theorem will hold as n gets large.  the general thought is that this happens around 100 observations.  Thus our sample of 130 can be thought of as large.\n",
    "\n",
    "We can assume each of these temperature measurements was drawn independent of each other- or that one observation does not depend on another. This is a concept necessary for the central limit theorem to hold. \n"
   ]
  },
  {
   "cell_type": "code",
   "execution_count": 17,
   "metadata": {
    "collapsed": false,
    "scrolled": false
   },
   "outputs": [
    {
     "name": "stdout",
     "output_type": "stream",
     "text": [
      "skewness of the distribution:  -0.004367976879081625\n",
      "excess kurtosis of the distribution:  0.7049597854114693\n",
      "number of observations:  130\n",
      "mean temperature:  98.24923076923078\n",
      "variance of temperature:  0.5375575432319613\n",
      "standard deviation of temperature:  0.733183158039\n"
     ]
    },
    {
     "data": {
      "image/png": "[encoded data removed]",
      "text/plain": [
       "<matplotlib.figure.Figure at 0x1e1d4cadf28>"
      ]
     },
     "metadata": {},
     "output_type": "display_data"
    }
   ],
   "source": [
    "import numpy as np\n",
    "df['temperature'].hist(bins=20,range=(96,101.5),figsize=(9,9))\n",
    "temp_skew= stats.skew(df['temperature']) \n",
    "temp_kurt= stats.kurtosis(df['temperature']) \n",
    "total_obs= len(df['temperature'])\n",
    "temp_mean= df['temperature'].mean()\n",
    "temp_var= df['temperature'].var()\n",
    "temp_sd=np.sqrt(temp_var)\n",
    "print(\"skewness of the distribution: \",temp_skew)\n",
    "print(\"excess kurtosis of the distribution: \",temp_kurt)\n",
    "print(\"number of observations: \",total_obs)\n",
    "print(\"mean temperature: \",temp_mean)\n",
    "print(\"variance of temperature: \",temp_var)\n",
    "print(\"standard deviation of temperature: \",temp_sd)\n"
   ]
  },
  {
   "cell_type": "markdown",
   "metadata": {
    "collapsed": true
   },
   "source": [
    "Is the true population mean really 98.6 degrees F? \n",
    "Would you use a one-sample or two-sample test? Why? \n",
    "In this situation, is it appropriate to use the \n",
    "tt or z z statistic? \n",
    "Now try using the other test. How is the result be different? Why? \n",
    "Draw a small sample of size 10 from the data and repeat both tests. \n",
    "Which one is the correct one to use? \n",
    "What do you notice? What does this tell you about the difference in application of the \n",
    "t t and z z statistic? \n",
    "\n",
    "Now let's test if the mean temperature in our sample is statistically different from the 98.6 we assume is the average human body temperature. We should set up the null hypthosis as \n",
    "H0: mean =98.6 and the alternative Ha:  We can use a two-sided t-test to test if our sample mean is different from the population mean of 98.6.\n",
    "\n",
    "\n",
    "\n"
   ]
  },
  {
   "cell_type": "code",
   "execution_count": 20,
   "metadata": {
    "collapsed": false
   },
   "outputs": [
    {
     "name": "stdout",
     "output_type": "stream",
     "text": [
      "t-statistic:  -5.45482329236\n",
      "left tail rejection region:  -1.97852449146\n",
      "right tail rejection region:  1.97852449146\n"
     ]
    }
   ],
   "source": [
    "#construct test-statistic\n",
    "t_stat=(temp_mean-98.6)/(temp_sd/np.sqrt(total_obs))\n",
    "left_tail= stats.t.ppf(q=0.025, df=129)\n",
    "right_tail= stats.t.ppf(q=0.975, df=129)\n",
    "\n",
    "print('t-statistic: ', t_stat)\n",
    "print('left tail rejection region: ', left_tail)\n",
    "print('right tail rejection region: ', right_tail)\n",
    "#stats.ttest_1samp(a=temp_mean,popmean=98.6 )\n",
    "\n",
    "z_critical = stats.norm.ppf(q = 0.975)"
   ]
  },
  {
   "cell_type": "code",
   "execution_count": null,
   "metadata": {
    "collapsed": true
   },
   "outputs": [],
   "source": []
  }
 ],
 "metadata": {
  "kernelspec": {
   "display_name": "Python 3",
   "language": "python",
   "name": "python3"
  },
  "language_info": {
   "codemirror_mode": {
    "name": "ipython",
    "version": 3
   },
   "file_extension": ".py",
   "mimetype": "text/x-python",
   "name": "python",
   "nbconvert_exporter": "python",
   "pygments_lexer": "ipython3",
   "version": "3.6.0"
  }
 },
 "nbformat": 4,
 "nbformat_minor": 1
}

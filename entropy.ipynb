{
 "cells": [
  {
   "cell_type": "code",
   "execution_count": null,
   "metadata": {
    "collapsed": true
   },
   "outputs": [],
   "source": [
    "from math import log\n",
    "\n",
    "def calcEnt(dataSet):\n",
    "    numEntries= len(dataSet)\n",
    "    labelCounts= {}\n",
    "    for featVec in dataSet:\n",
    "        currentLabel= featVecp[-1]\n",
    "        if currentLabel not in labelCounts.keys()\n",
    "        labelCounts[currentLabel]=0\n",
    "        labelCounts[currentLAbel] +=1\n",
    "    shannonEnt = 0.0 \n",
    "    for key in labelCounts:\n",
    "        prob= float(labelCounts[key])/numEntries\n",
    "        shannonEnt -= prob*log(prob,2)\n",
    "    return shannonEnt\n",
    "\n",
    "def splitDataSet(dataSet, axis, value):\n",
    "    retDataSet= []\n",
    "    for featVec in dataSet:\n",
    "        if featVec[axis]== value:\n",
    "            reducedFeatVec= featVec[:axis]\n",
    "            reducedFeatVec.extend(featVec[axis+1:])\n",
    "            retDataSet.append(reducedFeatVec)\n",
    "    return retDataSet\n",
    "\n",
    "def chooseBestFeatureToSplit(dataSet)\n",
    "    numFeatures= len(dataSet[0])-1\n",
    "    baseEntropy= calcEnt(dataSet)\n",
    "    bestInfoGai= 0.0; bestFeature=-1\n",
    "    for i inrange(numFeatures):\n",
    "        featList = [example[i] for example in dataSet]\n",
    "        uniqueVals= setfeatList)\n",
    "        newEntropy= 0.0\n",
    "        for value in uniqueVals:\n",
    "            subDataSet = splitDataSet(dataSet, i ,value)\n",
    "            prob= len(subDataSet)/float(len(dataSet))\n",
    "            newEntropy += prob*calcEnt(subDataSet)\n",
    "        infoGain= baseEntropy - newEntropy\n",
    "        if (infoGain> bestInfoGain):\n",
    "            bestInfoGain= infoGain\n",
    "            bestFeature= I \n",
    "    return bestFeature\n",
    "\n"
   ]
  },
  {
   "cell_type": "code",
   "execution_count": null,
   "metadata": {
    "collapsed": true
   },
   "outputs": [],
   "source": []
  }
 ],
 "metadata": {
  "kernelspec": {
   "display_name": "Python 3",
   "language": "python",
   "name": "python3"
  },
  "language_info": {
   "codemirror_mode": {
    "name": "ipython",
    "version": 3
   },
   "file_extension": ".py",
   "mimetype": "text/x-python",
   "name": "python",
   "nbconvert_exporter": "python",
   "pygments_lexer": "ipython3",
   "version": "3.6.0"
  }
 },
 "nbformat": 4,
 "nbformat_minor": 2
}
